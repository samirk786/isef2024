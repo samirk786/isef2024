{
 "cells": [
  {
   "cell_type": "code",
   "execution_count": 3,
   "id": "10dfc668-f0f3-4b7c-95bb-a10fc5b52cf6",
   "metadata": {},
   "outputs": [
    {
     "name": "stderr",
     "output_type": "stream",
     "text": [
      "/Users/samirkassam/Desktop/ISEF24/Mask-RCNN-TF2-master/mrcnn/model.py:2371: SyntaxWarning: \"is\" with a literal. Did you mean \"==\"?\n",
      "  workers = 0\n"
     ]
    }
   ],
   "source": [
    "import sys\n",
    "sys.path.append(\"Mask-RCNN-TF2-master\")\n",
    "\n",
    "from mrcnn.config import Config\n",
    "from mrcnn import model as modellib, utils\n"
   ]
  },
  {
   "cell_type": "code",
   "execution_count": null,
   "id": "bdfdbc99-e3e6-41d0-afbb-ad05aa2138dd",
   "metadata": {},
   "outputs": [],
   "source": []
  },
  {
   "cell_type": "code",
   "execution_count": null,
   "id": "008231f0-8e39-4304-9706-3f57838e3f4b",
   "metadata": {},
   "outputs": [],
   "source": []
  },
  {
   "cell_type": "code",
   "execution_count": null,
   "id": "a7cc9e84-bb3c-4ff5-9f25-91e8fecc1ac2",
   "metadata": {},
   "outputs": [],
   "source": []
  },
  {
   "cell_type": "code",
   "execution_count": null,
   "id": "3d76052e-0c0b-43a5-afec-3bb98841cd51",
   "metadata": {},
   "outputs": [],
   "source": []
  }
 ],
 "metadata": {
  "kernelspec": {
   "display_name": "Python 3.11.0",
   "language": "python",
   "name": "myenv"
  },
  "language_info": {
   "codemirror_mode": {
    "name": "ipython",
    "version": 3
   },
   "file_extension": ".py",
   "mimetype": "text/x-python",
   "name": "python",
   "nbconvert_exporter": "python",
   "pygments_lexer": "ipython3",
   "version": "3.11.0"
  }
 },
 "nbformat": 4,
 "nbformat_minor": 5
}
